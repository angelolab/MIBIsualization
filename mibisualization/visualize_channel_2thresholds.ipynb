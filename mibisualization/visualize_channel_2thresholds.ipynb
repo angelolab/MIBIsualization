{
 "cells": [
  {
   "cell_type": "markdown",
   "metadata": {},
   "source": [
    "# Visualize Channel 2 Thresholds\n",
    "\n",
    "Notebook to plot the selected channel for a matrix of bg thresholds.\n",
    "The thresholds are defined for the Au and Ta channels, encoded as rows and columns respectively.\n",
    "\n",
    "Accepted format for the images: IONpath's **MIBItiff** as from the MIBI/O software or the MIBItracker.\n",
    "\n",
    "Please update the parameters in the **input parameters** section before running the notebook."
   ]
  },
  {
   "cell_type": "markdown",
   "metadata": {},
   "source": [
    "# load headers"
   ]
  },
  {
   "cell_type": "code",
   "execution_count": null,
   "metadata": {
    "scrolled": true
   },
   "outputs": [],
   "source": [
    "# magic commands\n",
    "%matplotlib notebook\n",
    "%load_ext autoreload\n",
    "%autoreload 2\n",
    "\n",
    "#imports\n",
    "from IPython.core.display import display, HTML\n",
    "display(HTML(\"<style>.container { width:100% !important; }</style>\"))\n",
    "\n",
    "import os\n",
    "\n",
    "import pandas as pd\n",
    "import matplotlib.pyplot as plt\n",
    "\n",
    "from mibidata import mibi_image as mi, tiff\n",
    "import visualize_data as viz"
   ]
  },
  {
   "cell_type": "markdown",
   "metadata": {},
   "source": [
    "# input parameters"
   ]
  },
  {
   "cell_type": "code",
   "execution_count": null,
   "metadata": {},
   "outputs": [],
   "source": [
    "data_path = '../sample_data'\n",
    "\n",
    "# channel to plot\n",
    "# define as mass, in order to anonymize the targets\n",
    "channel_to_plot = 115\n",
    "\n",
    "# bg thresholds to use\n",
    "bg_thresholds_au = [0, 1, 2, 3, 4, 5, 10, 20, 30, 40, 50, 100]\n",
    "bg_thresholds_ta = [0, 1, 2, 3, 4, 5, 10, 20, 30, 40, 50, 100]\n",
    "\n",
    "# tiff files\n",
    "slide_num = 1\n",
    "point_num = 1\n",
    "run_name = 'CohortSlide1'\n",
    "tiff_file_prefix = f'{run_name}/{run_name}_TIFF/'\n",
    "tiff_file_suffix = f'Point{point_num}_RowNumber0_Depth_Profile0.tiff'\n",
    "\n",
    "#anonymize_targets = True\n",
    "anonymize_targets = False\n",
    "\n",
    "if anonymize_targets:\n",
    "    print('WARNING! TIFF files and TIFF file names might not be anonymized!')"
   ]
  },
  {
   "cell_type": "markdown",
   "metadata": {},
   "source": [
    "# plot images"
   ]
  },
  {
   "cell_type": "code",
   "execution_count": null,
   "metadata": {
    "scrolled": false
   },
   "outputs": [],
   "source": [
    "fig, ax = plt.subplots(len(bg_thresholds_au), len(bg_thresholds_ta), figsize=(2*len(bg_thresholds_au), 2*len(bg_thresholds_ta)))\n",
    "#im_axes = []\n",
    "l_tiff_files = []\n",
    "\n",
    "plt.ioff() # deactivate interactive mode in order not to show the next plot and avoid empty white space in the jupyter notebook (probably not necessary for pure python code)\n",
    "\n",
    "# loop over gold thresholds\n",
    "for count_au, bg_thres_au in enumerate(bg_thresholds_au):\n",
    "    # loop over tantalum thresholds\n",
    "    for count_ta, bg_thres_ta in enumerate(bg_thresholds_ta):\n",
    "        print()\n",
    "        print(f'Au thres {bg_thres_au} Ta thres {bg_thres_ta}, channel {channel_to_plot}')\n",
    "        # load tiff\n",
    "        l_tiff_files.append(os.path.join(data_path, tiff_file_prefix,\n",
    "                                         f'bg_au_{bg_thres_au:03}_ta_{bg_thres_ta:03}',\n",
    "                                         tiff_file_suffix))\n",
    "        f_order = len(l_tiff_files) - 1\n",
    "        print(f'file {f_order}: {l_tiff_files[-1]}')\n",
    "        # read MIBItiff image file\n",
    "        image = tiff.read(l_tiff_files[-1])\n",
    "        #if not anonymize_targets:\n",
    "            #print(f'metadata {image.metadata}')\n",
    "            #print(f'channels {image.channels}')\n",
    "        im = image[channel_to_plot]\n",
    "        counts = im.sum()\n",
    "        #im_axes.append(viz.plot_image(im,\n",
    "        viz.plot_image(im,\n",
    "                       ax=ax[count_au, count_ta],\n",
    "                       #title=str(f_order) + ' ' + str(channel_to_plot) + ' ' + str(\"{:.2e}\".format(counts)),\n",
    "                       title=str(\"{:.2e}\".format(counts)),\n",
    "                       brighten_image=True, hi_res=False)#)\n",
    "        ax[count_au, count_ta].xaxis.set_visible(False)\n",
    "        ax[count_au, count_ta].yaxis.set_visible(False)\n",
    "        #break # debug (show only 1 plot)\n",
    "\n",
    "#fig.tight_layout() #in this case, don't use it if showing axes or titles\n",
    "\n",
    "plt.ion() # turn interactive mode back on just in case"
   ]
  }
 ],
 "metadata": {
  "kernelspec": {
   "display_name": "Python 3",
   "language": "python",
   "name": "python3"
  },
  "language_info": {
   "codemirror_mode": {
    "name": "ipython",
    "version": 3
   },
   "file_extension": ".py",
   "mimetype": "text/x-python",
   "name": "python",
   "nbconvert_exporter": "python",
   "pygments_lexer": "ipython3",
   "version": "3.7.3"
  }
 },
 "nbformat": 4,
 "nbformat_minor": 4
}
