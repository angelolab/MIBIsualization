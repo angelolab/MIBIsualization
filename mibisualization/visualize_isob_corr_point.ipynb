{
 "cells": [
  {
   "cell_type": "markdown",
   "metadata": {},
   "source": [
    "# Visualize Isobaric Correction Point\n",
    "\n",
    "Notebook to plot isobaric corrections of selected channels for 1 point, a.k.a. FoV.\n",
    "It also plots the spectrum in TOF bin units and in mass units.\n",
    "In this script 2 images are plotted in the same axis (with and without isobaric corrections applied), allowing the user to toggle the visibility between both of them: once the notebook has run, select the desired plot and press 't' to toggle the visibility of both plots. This is useful in order to visualize the change in a channel before and afer isobaric corrections.\n",
    "\n",
    "Accepted format for the images: IONpath's **MIBItiff** as from the MIBI/O software or the MIBItracker.\n",
    "\n",
    "Please update the parameters in the **input parameters** section before running the notebook."
   ]
  },
  {
   "cell_type": "markdown",
   "metadata": {},
   "source": [
    "# load headers"
   ]
  },
  {
   "cell_type": "code",
   "execution_count": null,
   "metadata": {
    "scrolled": true
   },
   "outputs": [],
   "source": [
    "# magic commands\n",
    "%matplotlib notebook\n",
    "%load_ext autoreload\n",
    "%autoreload 2\n",
    "\n",
    "#imports\n",
    "from IPython.core.display import display, HTML\n",
    "display(HTML(\"<style>.container { width:100% !important; }</style>\"))\n",
    "\n",
    "import os\n",
    "\n",
    "import numpy as np\n",
    "import pandas as pd\n",
    "import matplotlib.pyplot as plt\n",
    "\n",
    "from mibidata import mibi_image as mi, tiff\n",
    "import visualize_data as viz"
   ]
  },
  {
   "cell_type": "markdown",
   "metadata": {},
   "source": [
    "# input parameters"
   ]
  },
  {
   "cell_type": "code",
   "execution_count": null,
   "metadata": {},
   "outputs": [],
   "source": [
    "data_path = os.path.expanduser('~/common/path/to/data')\n",
    "\n",
    "slide_num = 0\n",
    "point_num = 0\n",
    "run_name = 'run_name_for_slide0'\n",
    "\n",
    "# load tiff (with isob corrs applied)\n",
    "tiff_file = os.path.join(data_path,\n",
    "                         f'raw_msdf/{run_name}/{run_name}_TIFF',\n",
    "                         f'sl{slide_num:02}_pt{point_num:02}/bg_au_050_ta_020/',\n",
    "                         f'Point{point_num}_RowNumber0_Depth_Profile0-MassCorrected.tiff')\n",
    "\n",
    "# load bg tiff (bg here means: before isob corrs)\n",
    "tiff_file_bg = os.path.join(data_path,\n",
    "                            f'raw_msdf/{run_name}/{run_name}_TIFF',\n",
    "                            f'sl{slide_num:02}_pt{point_num:02}/bg_au_050_ta_020/',\n",
    "                            f'Point{point_num}_RowNumber0_Depth_Profile0.tiff')\n",
    "\n",
    "# load isobaric corrections json file\n",
    "isob_corr_file = os.path.join(data_path,\n",
    "                              f'raw_msdf/{run_name}/{run_name}_TIFF',\n",
    "                              f'sl{slide_num:02}_pt{point_num:02}/bg_au_050_ta_020/',\n",
    "                              f'Point{point_num}_RowNumber0_Depth_Profile0-MassCorrected.json')\n",
    "\n",
    "# load spectrum csv file\n",
    "spectrum_file = os.path.join(data_path,\n",
    "                             f'raw_msdf/{run_name}/Point{point_num}/RowNumber0/Depth_Profile0/',\n",
    "                             'AccumulatedSpectrum.csv')\n",
    "# load panel\n",
    "panel_file = os.path.join(data_path,\n",
    "                          'panel',\n",
    "                          'Panel.csv')\n",
    "\n",
    "# select channels\n",
    "a_masses = np.array([23,  39,  89, 113, 115, 146, 148, 149, 159, 181, 197])\n",
    "a_masses.sort()\n",
    "print(f'a_masses = {a_masses}')\n",
    "\n",
    "#anonymize_targets = True\n",
    "anonymize_targets = False\n",
    "\n",
    "show_isobaric_donors = True\n",
    "#show_isobaric_donors = False"
   ]
  },
  {
   "cell_type": "markdown",
   "metadata": {},
   "source": [
    "# read isobaric corrections"
   ]
  },
  {
   "cell_type": "code",
   "execution_count": null,
   "metadata": {},
   "outputs": [],
   "source": [
    "# dictionary of corrections: keys are masses of recipients, values are lists of masses of donors to that\n",
    "# recipient:\n",
    "# {recipient1: [donor11, donor12, ...], recipient2: [donor21, donor22, ...], ...}\n",
    "dict_masses = viz.read_isobaric_corrections(isob_corr_file, a_masses)\n",
    "print(f'dict_masses = {dict_masses}')"
   ]
  },
  {
   "cell_type": "markdown",
   "metadata": {},
   "source": [
    "# read panel"
   ]
  },
  {
   "cell_type": "code",
   "execution_count": null,
   "metadata": {
    "scrolled": false
   },
   "outputs": [],
   "source": [
    "panel_df = viz.read_panel_from_csv(panel_file, anonymize_targets=anonymize_targets)\n",
    "#display(panel_df)\n",
    "\n",
    "# transform masses to targets for selected channels\n",
    "dict_channels = {}\n",
    "for mass, mass_donors in dict_masses.items():\n",
    "    target = panel_df['Target'][panel_df['Mass'] == mass].values[0]\n",
    "    l_donors = []\n",
    "    for mass_donor in mass_donors:\n",
    "        l_donors.append(panel_df['Target'][panel_df['Mass'] == mass_donor].values[0])\n",
    "    dict_channels[mass] = {'target': target, 'donors': l_donors, 'mass_donors': mass_donors}\n",
    "#print(f'dict_channels = {dict_channels}')\n",
    "df_channels = pd.DataFrame.from_dict(dict_channels, orient='index')\n",
    "df_channels.index.name = 'mass'\n",
    "if show_isobaric_donors:\n",
    "    display(df_channels)\n",
    "else:\n",
    "    display(df_channels[['target']])"
   ]
  },
  {
   "cell_type": "markdown",
   "metadata": {},
   "source": [
    "# plot spectrum"
   ]
  },
  {
   "cell_type": "code",
   "execution_count": null,
   "metadata": {
    "scrolled": false
   },
   "outputs": [],
   "source": [
    "# read spectrum csv file\n",
    "spectrum_df = viz.read_spectrum_from_csv(spectrum_file)\n",
    "#display(spectrum_df)\n",
    "\n",
    "# light plot style\n",
    "plt.style.use('default')\n",
    "\n",
    "spec_axes = []\n",
    "\n",
    "# plot TOF bin spectrum\n",
    "spec_axes.append(viz.plot_spectrum(spectrum_df, plot_mass=False, plot_wide=True,\n",
    "                                   ax=None,\n",
    "                                   title='TOF bin spectrum'))\n",
    "\n",
    "# plot mass spectrum\n",
    "spec_axes.append(viz.plot_spectrum(spectrum_df, plot_mass=True, plot_wide=True,\n",
    "                                   ax=None,\n",
    "                                   title='mass spectrum'))\n",
    "\n",
    "# plot vertical lines for know masses\n",
    "df_known_masses = viz.get_know_masses_df()\n",
    "for _, row in df_known_masses.iterrows():\n",
    "    #print(f'Element {row[\"Element\"]}, mass {row[\"Mass\"]}')\n",
    "    spec_axes[1].axvline(x=row['Mass'], color='gray', linestyle=':', linewidth=1)\n",
    "#display(df_known_masses)\n",
    "\n",
    "# plot vertical lines for selected channels\n",
    "for mass in df_channels.index.values:\n",
    "    spec_axes[1].axvline(x=mass, color='black', linestyle='--', linewidth=1)\n",
    "\n",
    "    # plot vertical lines for donors\n",
    "    if show_isobaric_donors:\n",
    "        mass_donors = df_channels.loc[mass]['mass_donors']\n",
    "        for mass_donor in mass_donors:\n",
    "            spec_axes[1].axvline(x=mass_donor, color='red', linestyle='--', linewidth=1)"
   ]
  },
  {
   "cell_type": "markdown",
   "metadata": {},
   "source": [
    "# plot images"
   ]
  },
  {
   "cell_type": "code",
   "execution_count": null,
   "metadata": {
    "scrolled": false
   },
   "outputs": [],
   "source": [
    "# read MIBItiff image file\n",
    "image = tiff.read(tiff_file)\n",
    "if not anonymize_targets:\n",
    "    #print(f'metadata {image.metadata}')\n",
    "    #print(f'channels {image.channels}') # sorted by target name\n",
    "    print(f'channels {sorted(image.channels)}') # sorted by mass\n",
    "\n",
    "# read MIBItiff bg image file\n",
    "image_bg = tiff.read(tiff_file_bg)\n",
    "\n",
    "# dark plot style\n",
    "plt.style.use('dark_background')\n",
    "\n",
    "# loop over channels\n",
    "# im_axes = [] # not used for now\n",
    "for ch_order, channel in enumerate(sorted(image.channels)):\n",
    "    mass = channel[0]\n",
    "    target = channel[1]\n",
    "    #print() # debug\n",
    "    #print(f'channel {ch_order}: {channel}, mass {mass}, target {target}') # debug\n",
    "    #if mass > 70 and mass < 180 and mass != 128: # all biological channels\n",
    "    if mass in df_channels.index.values: # selected channels\n",
    "        print()\n",
    "        if show_isobaric_donors:\n",
    "            try:\n",
    "                mass_donors = df_channels.loc[mass]['mass_donors']\n",
    "                donors = df_channels.loc[mass]['donors'] # this should be anonymized already\n",
    "            except KeyError:\n",
    "                print(f'INFO: no donors found for channel {mass}')\n",
    "                mass_donors = []\n",
    "                donors = []                \n",
    "        else:\n",
    "            mass_donors = []\n",
    "            donors = []\n",
    "        if anonymize_targets:\n",
    "            try:\n",
    "                target = df_channels.loc[mass]['target']\n",
    "                # no need to anonymize donors\n",
    "            except:\n",
    "                target = 'dummy'\n",
    "            finally:\n",
    "                print('WARNING! TIFF files and \\'channel\\' variable might not be anonymized!')\n",
    "#         else:\n",
    "#             print(f'channel {ch_order}: {channel}, mass {mass}, target {target}, donors ({mass_donors}, {donors})') # debug (channel var not anonymized!)\n",
    "        if show_isobaric_donors:\n",
    "            print(f'channel {ch_order}: mass {mass}, target {target}, donors ({mass_donors}, {donors})')\n",
    "        else:\n",
    "            print(f'channel {ch_order}: mass {mass}, target {target}')\n",
    "        im = image[mass]\n",
    "        im_bg = image_bg[mass]\n",
    "        counts = im.sum()\n",
    "        n_plots = 1 + len(mass_donors)\n",
    "        fig_size = 8 # inch\n",
    "        #fig_size = 5 # inch # debug\n",
    "        fig, ax = plt.subplots(1, n_plots, figsize=(n_plots*fig_size, fig_size))\n",
    "        plt.ioff() # deactivate interactive mode in order not to show the next plot and avoid empty white space in the jupyter notebook (probably not necessary for pure python code)\n",
    "        try:\n",
    "            ax_recipient = ax[0]\n",
    "        except:\n",
    "            # in case the channel has no donors\n",
    "            ax_recipient = ax\n",
    "        viz.plot_toggle_image(im, im_bg,\n",
    "                              ax=ax_recipient,\n",
    "                              #title=str(channel) + ' ' + str(\"{:.2e}\".format(counts)), # debug (not anonymized)\n",
    "                              title=f'({mass}, \\'{target}\\')' + ' ' + str(\"{:.2e}\".format(counts)),\n",
    "                              #brighten_image=True, hi_res=True)\n",
    "                              brighten_image=True, hi_res=False)\n",
    "        plt.ioff() # deactivate interactive mode in order not to show the next plot and avoid empty white space in the jupyter notebook (probably not necessary for pure python code)\n",
    "        for n_donor, (mass_donor, donor) in enumerate(zip(mass_donors, donors)):\n",
    "            im_donor = image[mass_donor]\n",
    "            viz.plot_image(im_donor,\n",
    "                                  ax=ax[1 + n_donor],\n",
    "                                  #title=str(channel) + ' ' + str(\"{:.2e}\".format(counts)), # debug (not anonymized)\n",
    "                                  title=f'({mass_donor}, \\'{donor}\\')' + ' ' + str(\"{:.2e}\".format(counts)),\n",
    "                                  #brighten_image=True, hi_res=True)\n",
    "                                  brighten_image=True, hi_res=False)\n",
    "        plt.ion() # turn interactive mode back on to be able to toggle\n",
    "        fig.tight_layout()\n",
    "        #break # debug (show only 1 plot)"
   ]
  }
 ],
 "metadata": {
  "kernelspec": {
   "display_name": "Python 3",
   "language": "python",
   "name": "python3"
  },
  "language_info": {
   "codemirror_mode": {
    "name": "ipython",
    "version": 3
   },
   "file_extension": ".py",
   "mimetype": "text/x-python",
   "name": "python",
   "nbconvert_exporter": "python",
   "pygments_lexer": "ipython3",
   "version": "3.7.3"
  }
 },
 "nbformat": 4,
 "nbformat_minor": 4
}
