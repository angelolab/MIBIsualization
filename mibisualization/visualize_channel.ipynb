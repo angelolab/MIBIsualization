{
 "cells": [
  {
   "cell_type": "markdown",
   "metadata": {},
   "source": [
    "# Visualize Channel\n",
    "\n",
    "Notebook to plot the selected channel for a list of image files.\n",
    "It can be used for instance, to plot all the steps of the low-level cleaning for a specific channel for 1 point, or compare the expression of a specific channel across different points.\n",
    "\n",
    "Accepted format for the images: IONpath's **MIBItiff** as from the MIBI/O software or the MIBItracker.\n",
    "\n",
    "Please update the parameters in the **input parameters** section before running the notebook."
   ]
  },
  {
   "cell_type": "markdown",
   "metadata": {},
   "source": [
    "# load headers"
   ]
  },
  {
   "cell_type": "code",
   "execution_count": null,
   "metadata": {
    "scrolled": true
   },
   "outputs": [],
   "source": [
    "# magic commands\n",
    "%matplotlib notebook\n",
    "%load_ext autoreload\n",
    "%autoreload 2\n",
    "\n",
    "#imports\n",
    "from IPython.core.display import display, HTML\n",
    "display(HTML(\"<style>.container { width:100% !important; }</style>\"))\n",
    "\n",
    "import os\n",
    "\n",
    "import pandas as pd\n",
    "import matplotlib.pyplot as plt\n",
    "\n",
    "from mibidata import mibi_image as mi, tiff\n",
    "import visualize_data as viz"
   ]
  },
  {
   "cell_type": "markdown",
   "metadata": {},
   "source": [
    "# input parameters"
   ]
  },
  {
   "cell_type": "code",
   "execution_count": null,
   "metadata": {},
   "outputs": [],
   "source": [
    "data_path = os.path.expanduser('~/common/path/to/data')\n",
    "\n",
    "# channel to plot\n",
    "# define as mass, in order to anonymize the targets\n",
    "channel_to_plot = 000\n",
    "\n",
    "slide_num = 0\n",
    "point_num = 0\n",
    "run_name = 'run_name_for_slide0'\n",
    "\n",
    "# load tiffs\n",
    "l_tiff_files = []\n",
    "l_titles = []\n",
    "\n",
    "l_tiff_files.append(os.path.join(data_path,\n",
    "                                 f'raw_msdf/{run_name}/{run_name}_TIFF',\n",
    "                                 f'sl{slide_num:02}_pt{point_num:02}/bg_none/',\n",
    "                                 f'Point{point_num}_RowNumber0_Depth_Profile0.tiff'))\n",
    "l_titles.append('no bg removal')\n",
    "\n",
    "l_tiff_files.append(os.path.join(data_path,\n",
    "                                 f'raw_msdf/{run_name}/{run_name}_TIFF',\n",
    "                                 f'sl{slide_num:02}_pt{point_num:02}/bg_au_050_ta_020/',\n",
    "                                 f'Point{point_num}_RowNumber0_Depth_Profile0.tiff'))\n",
    "l_titles.append('bg removed: Au 50, Ta 20')\n",
    "\n",
    "l_tiff_files.append(os.path.join(data_path,\n",
    "                                 f'raw_msdf/{run_name}/{run_name}_TIFF',\n",
    "                                 f'sl{slide_num:02}_pt{point_num:02}/bg_au_050_ta_020/',\n",
    "                                 f'Point{point_num}_RowNumber0_Depth_Profile0-MassCorrected.tiff'))\n",
    "l_titles.append('isobaric interferences corrected')\n",
    "\n",
    "l_tiff_files.append(os.path.join(data_path,\n",
    "                                 f'raw_msdf/{run_name}/{run_name}_TIFF',\n",
    "                                 f'sl{slide_num:02}_pt{point_num:02}/bg_au_050_ta_020/',\n",
    "                                 f'Point{point_num}_RowNumber0_Depth_Profile0-MassCorrected-Filtered.tiff'))\n",
    "l_titles.append('denoised')\n",
    "\n",
    "#anonymize_targets = True\n",
    "anonymize_targets = False\n",
    "\n",
    "if anonymize_targets:\n",
    "    print('WARNING! TIFF files and TIFF file names might not be anonymized!')"
   ]
  },
  {
   "cell_type": "markdown",
   "metadata": {},
   "source": [
    "# plot images"
   ]
  },
  {
   "cell_type": "code",
   "execution_count": null,
   "metadata": {
    "scrolled": false
   },
   "outputs": [],
   "source": [
    "# dark plot style\n",
    "plt.style.use('dark_background')\n",
    "\n",
    "# loop over files\n",
    "im_axes = []\n",
    "for f_order, (tiff_file, title) in enumerate(zip(l_tiff_files, l_titles)):\n",
    "    print()\n",
    "    if anonymize_targets:\n",
    "        print(f'file {f_order}: \\'{title}\\', channel {channel_to_plot}')\n",
    "    else:\n",
    "        print(f'file {f_order}: {tiff_file}, channel {channel_to_plot}')\n",
    "        print(title)\n",
    "    #if f_order < 5: # debug\n",
    "    # read MIBItiff image file\n",
    "    image = tiff.read(tiff_file)\n",
    "    #if not anonymize_targets:\n",
    "        #print(f'metadata {image.metadata}')\n",
    "        #print(f'channels {image.channels}')\n",
    "    im = image[channel_to_plot]\n",
    "    counts = im.sum()\n",
    "    im_axes.append(viz.plot_image(im,\n",
    "                                  ax=None,\n",
    "                                  #title=str(f_order) + ' ' + str(channel_to_plot) + ' ' + str(\"{:.2e}\".format(counts)),\n",
    "                                  title=str(channel_to_plot) + ' ' + str(\"{:.2e}\".format(counts)) + ': \\'' + title + '\\'',\n",
    "                                  #brighten_image=True, hi_res=True))\n",
    "                                  brighten_image=True, hi_res=False))\n",
    "    #break # debug (show only 1 plot)"
   ]
  }
 ],
 "metadata": {
  "kernelspec": {
   "display_name": "Python 3",
   "language": "python",
   "name": "python3"
  },
  "language_info": {
   "codemirror_mode": {
    "name": "ipython",
    "version": 3
   },
   "file_extension": ".py",
   "mimetype": "text/x-python",
   "name": "python",
   "nbconvert_exporter": "python",
   "pygments_lexer": "ipython3",
   "version": "3.7.3"
  }
 },
 "nbformat": 4,
 "nbformat_minor": 4
}
