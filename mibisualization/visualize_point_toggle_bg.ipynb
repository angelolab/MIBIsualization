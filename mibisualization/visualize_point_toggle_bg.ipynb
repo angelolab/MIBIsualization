{
 "cells": [
  {
   "cell_type": "markdown",
   "metadata": {},
   "source": [
    "# Visualize Point Toggle Bg\n",
    "\n",
    "Notebook to plot selected channels for 1 point, a.k.a. FoV.\n",
    "It also plots the spectrum in TOF bin units and in mass units.\n",
    "This version of the script takes 2 images, plots them in the same axis object and allows the user to toggle between both of them: once the notebook has run, select the desired plot and press 't' to toggle the visibility of both plots. This is useful for instance, in order to visualize the change in a channel before and afer slide bg removal.\n",
    "\n",
    "Accepted format for the images: IONpath's **MIBItiff** as from the MIBI/O software or the MIBItracker.\n",
    "\n",
    "Please update the parameters in the **input parameters** section before running the notebook."
   ]
  },
  {
   "cell_type": "markdown",
   "metadata": {},
   "source": [
    "# load headers"
   ]
  },
  {
   "cell_type": "code",
   "execution_count": null,
   "metadata": {
    "scrolled": true
   },
   "outputs": [],
   "source": [
    "# magic commands\n",
    "%matplotlib notebook\n",
    "%load_ext autoreload\n",
    "%autoreload 2\n",
    "\n",
    "#imports\n",
    "from IPython.core.display import display, HTML\n",
    "display(HTML(\"<style>.container { width:100% !important; }</style>\"))\n",
    "\n",
    "import os\n",
    "\n",
    "import numpy as np\n",
    "import pandas as pd\n",
    "import matplotlib.pyplot as plt\n",
    "\n",
    "from mibidata import mibi_image as mi, tiff\n",
    "import visualize_data as viz"
   ]
  },
  {
   "cell_type": "markdown",
   "metadata": {},
   "source": [
    "# input parameters"
   ]
  },
  {
   "cell_type": "code",
   "execution_count": null,
   "metadata": {},
   "outputs": [],
   "source": [
    "data_path = '../sample_data'\n",
    "\n",
    "slide_num = 1\n",
    "point_num = 1\n",
    "run_name = 'CohortSlide1'\n",
    "\n",
    "# load tiff\n",
    "tiff_file = os.path.join(data_path,\n",
    "                         f'{run_name}/{run_name}_TIFF',\n",
    "                         'bg_au_050_ta_020',\n",
    "                         f'Point{point_num}_RowNumber0_Depth_Profile0.tiff')\n",
    "# load bg tiff\n",
    "tiff_file_bg = os.path.join(data_path,\n",
    "                            f'{run_name}/{run_name}_TIFF',\n",
    "                            f'bg_none',\n",
    "                            f'Point{point_num}_RowNumber0_Depth_Profile0.tiff')\n",
    "\n",
    "# load spectrum csv file\n",
    "spectrum_file = os.path.join(data_path,\n",
    "                             f'{run_name}/Point{point_num}/RowNumber0/Depth_Profile0/',\n",
    "                             'AccumulatedSpectrum.csv')\n",
    "# load panel\n",
    "panel_file = os.path.join(data_path,\n",
    "                          'Panel.csv')\n",
    "\n",
    "# select channels\n",
    "a_masses = np.array([89, 113, 115, 146, 148, 149, 159, 181, 197])\n",
    "a_masses.sort()\n",
    "print(f'a_masses = {a_masses}')\n",
    "\n",
    "#anonymize_targets = True\n",
    "anonymize_targets = False"
   ]
  },
  {
   "cell_type": "markdown",
   "metadata": {},
   "source": [
    "# read panel"
   ]
  },
  {
   "cell_type": "code",
   "execution_count": null,
   "metadata": {
    "scrolled": false
   },
   "outputs": [],
   "source": [
    "panel_df = viz.read_panel_from_csv(panel_file, anonymize_targets=anonymize_targets)\n",
    "#display(panel_df)\n",
    "\n",
    "# transform masses to targets for selected channels\n",
    "l_targets = []\n",
    "for mass in a_masses:\n",
    "    l_targets.append(panel_df['Target'][panel_df['Mass'] == mass].values[0])\n",
    "print(f'l_targets = {l_targets}')"
   ]
  },
  {
   "cell_type": "markdown",
   "metadata": {},
   "source": [
    "# plot spectrum"
   ]
  },
  {
   "cell_type": "code",
   "execution_count": null,
   "metadata": {
    "scrolled": false
   },
   "outputs": [],
   "source": [
    "# read spectrum csv file\n",
    "spectrum_df = viz.read_spectrum_from_csv(spectrum_file)\n",
    "#display(spectrum_df)\n",
    "\n",
    "# light plot style\n",
    "plt.style.use('default')\n",
    "\n",
    "spec_axes = []\n",
    "\n",
    "# plot TOF bin spectrum\n",
    "spec_axes.append(viz.plot_spectrum(spectrum_df, plot_mass=False, plot_wide=True,\n",
    "                                   ax=None,\n",
    "                                   title='TOF bin spectrum'))\n",
    "\n",
    "# plot mass spectrum\n",
    "spec_axes.append(viz.plot_spectrum(spectrum_df, plot_mass=True, plot_wide=True,\n",
    "                                   ax=None,\n",
    "                                   title='mass spectrum'))\n",
    "\n",
    "# plot vertical lines for know masses\n",
    "df_known_masses = viz.get_know_masses_df()\n",
    "for _, row in df_known_masses.iterrows():\n",
    "    #print(f'Element {row[\"Element\"]}, mass {row[\"Mass\"]}')\n",
    "    spec_axes[1].axvline(x=row['Mass'], color='gray', linestyle=':', linewidth=1)\n",
    "#display(df_known_masses)\n",
    "\n",
    "# plot vertical lines for selected channels\n",
    "for mass in a_masses:\n",
    "    spec_axes[1].axvline(x=mass, color='black', linestyle='--', linewidth=1)"
   ]
  },
  {
   "cell_type": "markdown",
   "metadata": {},
   "source": [
    "# plot images"
   ]
  },
  {
   "cell_type": "code",
   "execution_count": null,
   "metadata": {
    "scrolled": false
   },
   "outputs": [],
   "source": [
    "# read MIBItiff image file\n",
    "image = tiff.read(tiff_file)\n",
    "if not anonymize_targets:\n",
    "    #print(f'metadata {image.metadata}')\n",
    "    #print(f'channels {image.channels}') # sorted by target name\n",
    "    print(f'channels {sorted(image.channels)}') # sorted by mass\n",
    "\n",
    "# read MIBItiff bg image file\n",
    "image_bg = tiff.read(tiff_file_bg)\n",
    "\n",
    "# dark plot style\n",
    "plt.style.use('dark_background')\n",
    "\n",
    "# loop over channels\n",
    "im_axes = []\n",
    "for ch_order, channel in enumerate(sorted(image.channels)):\n",
    "    mass = channel[0]\n",
    "    target = channel[1]\n",
    "    #print() # debug\n",
    "    #print(f'channel {ch_order}: {channel}, mass {mass}, target {target}') # debug\n",
    "    #if ch_order < 5 or mass == 146: # debug\n",
    "    #if mass > 85: # low masses are not interesting\n",
    "    #if mass > 85 and mass < 180 and mass != 128: # all biological channels\n",
    "    #if mass > 0: # all masses\n",
    "    #if target in l_targets: # selected channels\n",
    "    if mass in a_masses: # selected channels (anonymous version)\n",
    "        print()\n",
    "        if anonymize_targets:\n",
    "            try:\n",
    "                target = l_targets[np.where(a_masses == mass)[0][0]]\n",
    "            except:\n",
    "                target = 'dummy'\n",
    "            finally:\n",
    "                print('WARNING! TIFF files and \\'channel\\' variable might not be anonymized!')\n",
    "#         else:\n",
    "#             print(f'channel {ch_order}: {channel}, mass {mass}, target {target}') # debug (channel var not anonymized!)\n",
    "        print(f'channel {ch_order}: mass {mass}, target {target}')\n",
    "        im = image[mass]\n",
    "        im_bg = image_bg[mass]\n",
    "        counts = im.sum()\n",
    "        im_axes.append(viz.plot_toggle_image(im, im_bg,\n",
    "                                             ax=None,\n",
    "                                             #title=str(channel) + ' ' + str(\"{:.2e}\".format(counts)), # debug (not anonymized)\n",
    "                                             title=f'({mass}, \\'{target}\\')' + ' ' + str(\"{:.2e}\".format(counts)),\n",
    "                                             brighten_image=True, hi_res=True))\n",
    "                                             #brighten_image=True, hi_res=False))\n",
    "        #break # debug (show only 1 plot)"
   ]
  }
 ],
 "metadata": {
  "kernelspec": {
   "display_name": "Python 3",
   "language": "python",
   "name": "python3"
  },
  "language_info": {
   "codemirror_mode": {
    "name": "ipython",
    "version": 3
   },
   "file_extension": ".py",
   "mimetype": "text/x-python",
   "name": "python",
   "nbconvert_exporter": "python",
   "pygments_lexer": "ipython3",
   "version": "3.7.3"
  }
 },
 "nbformat": 4,
 "nbformat_minor": 4
}
